{
 "cells": [
  {
   "cell_type": "code",
   "execution_count": null,
   "id": "0a78b5b5",
   "metadata": {},
   "outputs": [],
   "source": [
    "# Correlation Analysis"
   ]
  },
  {
   "cell_type": "code",
   "execution_count": 15,
   "id": "2b2a2673",
   "metadata": {},
   "outputs": [],
   "source": [
    "%matplotlib inline\n",
    "import yfinance as yf\n",
    "import pandas as pd\n",
    "import numpy as np\n",
    "import matplotlib.pyplot as plt\n",
    "import ipywidgets as widgets\n",
    "from IPython.display import display\n",
    "import datetime"
   ]
  },
  {
   "cell_type": "code",
   "execution_count": 57,
   "id": "fc8bfc78",
   "metadata": {},
   "outputs": [],
   "source": [
    "def runcorr(d):\n",
    "    # ticker1 and ticker2 are global widgets\n",
    "    global combined_data\n",
    "    combined_data = corr(ticker1.value, ticker2.value)\n",
    "    return None"
   ]
  },
  {
   "cell_type": "code",
   "execution_count": 58,
   "id": "5b3f17ac",
   "metadata": {},
   "outputs": [],
   "source": [
    "def corr(ticker1, ticker2):\n",
    "    \"\"\"Shows total correlation of two financial instruments over entire history\"\"\"\n",
    "    # Download data\n",
    "    price_data_1 = yf.download(ticker1)\n",
    "    price_data_2 = yf.download(ticker2)\n",
    "    price_data_2 = price_data_2.rename(columns = {\"Open\": \"Open\", \"High\": \"High\", \"Low\": \"Low\", \"Close\": \"Close\", \"Adj Close\":\"Adj Close 2\", \"Volume\": \"Volume\"})\n",
    "    combined_data = pd.merge(price_data_1[\"Adj Close\"], price_data_2[\"Adj Close 2\"], left_index = True, right_index = True)\n",
    "    # Take log returns of daily price change\n",
    "    adj_data_1 = np.log(combined_data.iloc[1:][\"Adj Close\"].values/combined_data.iloc[:-1][\"Adj Close\"].values)\n",
    "    adj_data_2 = np.log(combined_data.iloc[1:][\"Adj Close 2\"].values/combined_data.iloc[:-1][\"Adj Close 2\"].values)\n",
    "    # Combine data \n",
    "    combined_data.loc[combined_data.index[1]:, \"Adj Close\"] = adj_data_1\n",
    "    combined_data.loc[combined_data.index[1]:, \"Adj Close 2\"] = adj_data_2\n",
    "    combined_data = combined_data.dropna().loc[combined_data.index[1]:,:]\n",
    "    \n",
    "    # Print data\n",
    "    out.clear_output() # out is a global widget\n",
    "    with out:\n",
    "        print(\"Correlation:\",combined_data.corr().iloc[0,1])\n",
    "    return combined_data"
   ]
  },
  {
   "cell_type": "code",
   "execution_count": 59,
   "id": "1b747e53",
   "metadata": {},
   "outputs": [],
   "source": [
    "def runintc(days):\n",
    "    print(intcorr(combined_data, days))"
   ]
  },
  {
   "cell_type": "code",
   "execution_count": 60,
   "id": "3fe06924",
   "metadata": {},
   "outputs": [],
   "source": [
    "def intcorr(combined_data, days):\n",
    "    \"\"\"\n",
    "    Shows total correlation of two financial instruments over a defined\n",
    "    number of trading days\n",
    "    \"\"\"\n",
    "#     # Download data\n",
    "#     price_data_2 = price_data_2.rename(columns = {\"Open\": \"Open\", \"High\": \"High\", \"Low\": \"Low\", \"Close\": \"Close\", \"Adj Close\":\"Adj Close 2\", \"Volume\": \"Volume\"})\n",
    "#     combined_data = pd.merge(price_data_1[\"Adj Close\"], price_data_2[\"Adj Close 2\"], left_index = True, right_index = True)\n",
    "#     # Take log returns of daily price change\n",
    "#     adj_data_1 = np.log(combined_data.iloc[1:][\"Adj Close\"].values/combined_data.iloc[:-1][\"Adj Close\"].values)\n",
    "#     adj_data_2 = np.log(combined_data.iloc[1:][\"Adj Close 2\"].values/combined_data.iloc[:-1][\"Adj Close 2\"].values)\n",
    "#     # Combine data \n",
    "#     combined_data.loc[combined_data.index[1]:, \"Adj Close\"] = adj_data_1\n",
    "#     combined_data.loc[combined_data.index[1]:, \"Adj Close 2\"] = adj_data_2\n",
    "#     combined_data = combined_data.dropna().loc[combined_data.index[1]:,:]\n",
    "    \n",
    "    # Return correlation\n",
    "    if days == 0:\n",
    "        return f\"All time correlation: {combined_data.iloc[-days:].corr().iloc[0,1]}\"\n",
    "    else:\n",
    "        return f\"Correlation in the last {days} trading days: {combined_data.iloc[-days:].corr().iloc[0,1]}\""
   ]
  },
  {
   "cell_type": "code",
   "execution_count": 71,
   "id": "e9963561",
   "metadata": {},
   "outputs": [],
   "source": [
    "def runplotcorr(window):\n",
    "    plotcorr(combined_data, window)"
   ]
  },
  {
   "cell_type": "code",
   "execution_count": 85,
   "id": "b017ed17",
   "metadata": {},
   "outputs": [],
   "source": [
    "def plotcorr(combined_data, window):\n",
    "    \"\"\"\n",
    "    Plots trailing correlation over time\n",
    "    \"\"\"\n",
    "#     times = combined_data.index\n",
    "#     date_window = datetime.timedelta(days = window)\n",
    "#     corrs = []\n",
    "#     # Calculate correlation within all windows\n",
    "#     for i in combined_data[times[0] + date_window:].index:\n",
    "#         corrs.append([i, combined_data[i - date_window:i].corr().iloc[0][1]])\n",
    "    corrs = combined_data[\"Adj Close\"].rolling(window).corr(other = combined_data[\"Adj Close 2\"],pairwise = False)\n",
    "    \n",
    "    # Plot entire history of correlation coefficient\n",
    "    \n",
    "    fig = plt.figure(figsize = (14, 8))\n",
    "    ax = plt.axes()\n",
    "    \n",
    "    ax.set_ylabel(\"Correlation Coefficient\")\n",
    "    ax.yaxis.label.set_size(18)\n",
    "\n",
    "    ax.plot(corrs);\n",
    "    \n",
    "    return None\n",
    "    \n",
    "    "
   ]
  },
  {
   "cell_type": "code",
   "execution_count": 61,
   "id": "f69dba99",
   "metadata": {},
   "outputs": [
    {
     "data": {
      "application/vnd.jupyter.widget-view+json": {
       "model_id": "3fa566b45d5146f891b4aa7993fd2978",
       "version_major": 2,
       "version_minor": 0
      },
      "text/plain": [
       "HBox(children=(Text(value='', description='Ticker 1', placeholder='Enter ticker symbol'), Text(value='', descr…"
      ]
     },
     "metadata": {},
     "output_type": "display_data"
    },
    {
     "data": {
      "application/vnd.jupyter.widget-view+json": {
       "model_id": "f7ab0f149c5748e99267c75938062d2d",
       "version_major": 2,
       "version_minor": 0
      },
      "text/plain": [
       "Button(description='Get historic correlation', layout=Layout(border='1px solid black', display='flex', margin=…"
      ]
     },
     "metadata": {},
     "output_type": "display_data"
    },
    {
     "data": {
      "application/vnd.jupyter.widget-view+json": {
       "model_id": "8272934be850486ca80dc97a2d592725",
       "version_major": 2,
       "version_minor": 0
      },
      "text/plain": [
       "Output(layout=Layout(border='1px solid black'))"
      ]
     },
     "metadata": {},
     "output_type": "display_data"
    },
    {
     "name": "stdout",
     "output_type": "stream",
     "text": [
      "[*********************100%***********************]  1 of 1 completed\n",
      "[*********************100%***********************]  1 of 1 completed\n"
     ]
    }
   ],
   "source": [
    "# Get Historic Correlation\n",
    "ticker1 = widgets.Text(placeholder = \"Enter ticker symbol\", description = \"Ticker 1\")\n",
    "ticker2 = widgets.Text(placeholder = \"Enter ticker symbol\", description = \"Ticker 2\")\n",
    "row = widgets.HBox([ticker1, ticker2])\n",
    "go = widgets.Button(description = \"Get historic correlation\",\n",
    "                   disabled = False, button_style = '',\n",
    "                   tooltip = 'Click to go',\n",
    "                   layout = {'margin': '0px 0px 0px 70px', 'display': 'flex', 'border': '1px solid black'}\n",
    "                   )\n",
    "out = widgets.Output(layout = {'border': '1px solid black'})\n",
    "display(row)\n",
    "display(go)\n",
    "display(out)\n",
    "go.on_click(runcorr)"
   ]
  },
  {
   "cell_type": "code",
   "execution_count": 63,
   "id": "f00122b4",
   "metadata": {},
   "outputs": [
    {
     "data": {
      "application/vnd.jupyter.widget-view+json": {
       "model_id": "8342a3b0dad9482eb95e7ba9a079c2d2",
       "version_major": 2,
       "version_minor": 0
      },
      "text/plain": [
       "VBox(children=(IntSlider(value=0, description='Days', layout=Layout(width='750px'), max=2985), Output()))"
      ]
     },
     "metadata": {},
     "output_type": "display_data"
    }
   ],
   "source": [
    "# Get Correlation in the last x trading days\n",
    "\n",
    "days = widgets.IntSlider(description = \"Days\", \n",
    "                         min = 0, max = min(len(price_data_1),len(price_data_2)),\n",
    "                        layout = {'width': '750px'})\n",
    "out = widgets.interactive_output(runintc, {'days': days})\n",
    "\n",
    "widgets.VBox([days, out])"
   ]
  },
  {
   "cell_type": "code",
   "execution_count": 88,
   "id": "f94b5ea4",
   "metadata": {},
   "outputs": [
    {
     "data": {
      "application/vnd.jupyter.widget-view+json": {
       "model_id": "6009b9b1c78e4e659e20c63f13dafb66",
       "version_major": 2,
       "version_minor": 0
      },
      "text/plain": [
       "VBox(children=(HBox(children=(Label(value='Window in trading days'), IntSlider(value=60, layout=Layout(width='…"
      ]
     },
     "metadata": {},
     "output_type": "display_data"
    }
   ],
   "source": [
    "# See correlation evolving over time\n",
    "window = widgets.IntSlider(description = \"\", \n",
    "                         min = 60, max = min(506,len(price_data_1),len(price_data_2)),\n",
    "                        layout = {'width': '500px'})\n",
    "\n",
    "out = widgets.interactive_output(runplotcorr, {'window': window})\n",
    "\n",
    "widgets.VBox([widgets.HBox([widgets.Label(\"Window in trading days\"), window]), out])"
   ]
  },
  {
   "cell_type": "code",
   "execution_count": null,
   "id": "0b72e1df",
   "metadata": {},
   "outputs": [],
   "source": []
  }
 ],
 "metadata": {
  "kernelspec": {
   "display_name": "Python 3",
   "language": "python",
   "name": "python3"
  },
  "language_info": {
   "codemirror_mode": {
    "name": "ipython",
    "version": 3
   },
   "file_extension": ".py",
   "mimetype": "text/x-python",
   "name": "python",
   "nbconvert_exporter": "python",
   "pygments_lexer": "ipython3",
   "version": "3.8.8"
  }
 },
 "nbformat": 4,
 "nbformat_minor": 5
}
