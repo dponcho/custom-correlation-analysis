{
 "cells": [
  {
   "cell_type": "code",
   "execution_count": null,
   "id": "0a78b5b5",
   "metadata": {},
   "outputs": [],
   "source": [
    "# Correlation Analysis"
   ]
  },
  {
   "cell_type": "code",
   "execution_count": null,
   "id": "2b2a2673",
   "metadata": {},
   "outputs": [],
   "source": [
    "%matplotlib inline\n",
    "import yfinance as yf\n",
    "import pandas as pd\n",
    "import numpy as np\n",
    "import matplotlib.pyplot as plt\n",
    "import ipywidgets as widgets"
   ]
  },
  {
   "cell_type": "code",
   "execution_count": null,
   "id": "f69dba99",
   "metadata": {},
   "outputs": [],
   "source": [
    "ticker_1 = \"SRU-UN.TO\"\n",
    "ticker_2 = \"^GSPTSE\""
   ]
  },
  {
   "cell_type": "code",
   "execution_count": null,
   "id": "9e32cbae",
   "metadata": {},
   "outputs": [],
   "source": [
    "price_data_1 = yf.download(ticker_1)\n",
    "price_data_2 = yf.download(ticker_2)"
   ]
  },
  {
   "cell_type": "code",
   "execution_count": null,
   "id": "7f1bb120",
   "metadata": {},
   "outputs": [],
   "source": [
    "price_data_2 = price_data_2.rename(columns = {\"Open\": \"Open\", \"High\": \"High\", \"Low\": \"Low\", \"Close\": \"Close\", \"Adj Close\":\"Adj Close 2\", \"Volume\": \"Volume\"})"
   ]
  },
  {
   "cell_type": "code",
   "execution_count": null,
   "id": "905ac258",
   "metadata": {},
   "outputs": [],
   "source": [
    "combined_data = pd.merge(price_data_1[\"Adj Close\"], price_data_2[\"Adj Close 2\"], left_index = True, right_index = True)"
   ]
  },
  {
   "cell_type": "code",
   "execution_count": null,
   "id": "d1aaba8a",
   "metadata": {},
   "outputs": [],
   "source": [
    "# Take log returns of daily price change\n",
    "adj_data_1 = np.log(combined_data.iloc[1:][\"Adj Close\"].values/combined_data.iloc[:-1][\"Adj Close\"].values)\n",
    "adj_data_2 = np.log(combined_data.iloc[1:][\"Adj Close 2\"].values/combined_data.iloc[:-1][\"Adj Close 2\"].values)"
   ]
  },
  {
   "cell_type": "code",
   "execution_count": null,
   "id": "63c549da",
   "metadata": {},
   "outputs": [],
   "source": [
    "combined_data.loc[combined_data.index[1]:, \"Adj Close\"] = adj_data_1\n",
    "combined_data.loc[combined_data.index[1]:, \"Adj Close 2\"] = adj_data_2\n",
    "combined_data = combined_data.dropna().loc[combined_data.index[1]:,:]"
   ]
  },
  {
   "cell_type": "code",
   "execution_count": null,
   "id": "f00122b4",
   "metadata": {},
   "outputs": [],
   "source": [
    "combined_data.corr()"
   ]
  },
  {
   "cell_type": "code",
   "execution_count": null,
   "id": "572439dd",
   "metadata": {},
   "outputs": [],
   "source": [
    "import datetime"
   ]
  },
  {
   "cell_type": "code",
   "execution_count": null,
   "id": "f52ab2fd",
   "metadata": {},
   "outputs": [],
   "source": [
    "# Calculate trailing 12-month correlation between two securities\n",
    "times = combined_data.index\n",
    "year = datetime.timedelta(days = 365)\n",
    "corrs = []\n",
    "for i in combined_data[times[0] + year:].index:\n",
    "    corrs.append([i,combined_data[i - year:i].corr().iloc[0][1]])\n"
   ]
  },
  {
   "cell_type": "code",
   "execution_count": null,
   "id": "a258ad5f",
   "metadata": {},
   "outputs": [],
   "source": [
    "corrs = np.array(corrs)\n",
    "corrs"
   ]
  },
  {
   "cell_type": "code",
   "execution_count": null,
   "id": "5d5b313b",
   "metadata": {},
   "outputs": [],
   "source": [
    "# Plot correlation coefficient over last 2 years\n",
    "fig = plt.figure(figsize = (12,6))\n",
    "ax = plt.axes()\n",
    "\n",
    "ax.set_ylabel(\"Correlation Coefficient\")\n",
    "ax.yaxis.label.set_color(\"white\")\n",
    "ax.yaxis.label.set_size(18)\n",
    "\n",
    "ax.tick_params(axis = 'x', colors = \"white\")\n",
    "ax.tick_params(axis = 'y', colors = \"white\")\n",
    "\n",
    "ax.plot(corrs[-500:-200,0], corrs[-500:-200,1])"
   ]
  },
  {
   "cell_type": "code",
   "execution_count": null,
   "id": "74149b34",
   "metadata": {},
   "outputs": [],
   "source": [
    "# Plot entire history of correlation coefficient\n",
    "\n",
    "fig = plt.figure(figsize = (14,8))\n",
    "ax = plt.axes()\n",
    "\n",
    "ax.set_ylabel(\"Correlation Coefficient\")\n",
    "ax.yaxis.label.set_color(\"white\")\n",
    "ax.yaxis.label.set_size(18)\n",
    "\n",
    "ax.tick_params(axis = 'x', colors = \"white\")\n",
    "ax.tick_params(axis = 'y', colors = \"white\")\n",
    "\n",
    "ax.plot(corrs[:,0], corrs[:,1])"
   ]
  },
  {
   "cell_type": "code",
   "execution_count": null,
   "id": "7cc192cd",
   "metadata": {},
   "outputs": [],
   "source": [
    "# Plot price chart of two securities\n",
    "\n",
    "fig = plt.figure(figsize = (14,8))\n",
    "ax = plt.axes()\n",
    "\n",
    "ax.tick_params(axis = 'x', colors = \"white\")\n",
    "ax.tick_params(axis = 'y', colors = \"white\")\n",
    "\n",
    "ax.plot(price_data_1[\"Adj Close\"]/(price_data_1.iloc[0][\"Adj Close\"]/price_data_2.iloc[0][\"Adj Close 2\"]), label = ticker_1)\n",
    "ax.plot(price_data_2[\"Adj Close 2\"], label = ticker_2)\n",
    "\n",
    "leg = ax.legend();"
   ]
  },
  {
   "cell_type": "code",
   "execution_count": null,
   "id": "5f2b6e69",
   "metadata": {},
   "outputs": [],
   "source": [
    "import types\n",
    "def imports():\n",
    "    for name, val in globals().items():\n",
    "        if isinstance(val, types.ModuleType):\n",
    "            yield val.__name__\n",
    "list(imports())"
   ]
  },
  {
   "cell_type": "code",
   "execution_count": null,
   "id": "96b7887f",
   "metadata": {},
   "outputs": [],
   "source": [
    "import matplotlib\n",
    "print(matplotlib.__version__)"
   ]
  },
  {
   "cell_type": "code",
   "execution_count": null,
   "id": "0b72e1df",
   "metadata": {},
   "outputs": [],
   "source": []
  }
 ],
 "metadata": {
  "kernelspec": {
   "display_name": "Python 3",
   "language": "python",
   "name": "python3"
  },
  "language_info": {
   "codemirror_mode": {
    "name": "ipython",
    "version": 3
   },
   "file_extension": ".py",
   "mimetype": "text/x-python",
   "name": "python",
   "nbconvert_exporter": "python",
   "pygments_lexer": "ipython3",
   "version": "3.8.8"
  }
 },
 "nbformat": 4,
 "nbformat_minor": 5
}
